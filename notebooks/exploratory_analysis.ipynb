{
 "cells": [
  {
   "cell_type": "code",
   "execution_count": 1,
   "metadata": {},
   "outputs": [
    {
     "name": "stderr",
     "output_type": "stream",
     "text": [
      "C:\\Users\\Torbjørn\\AppData\\Local\\Temp\\ipykernel_13588\\225911458.py:2: DeprecationWarning: \n",
      "Pyarrow will become a required dependency of pandas in the next major release of pandas (pandas 3.0),\n",
      "(to allow more performant data types, such as the Arrow string type, and better interoperability with other libraries)\n",
      "but was not found to be installed on your system.\n",
      "If this would cause problems for you,\n",
      "please provide us feedback at https://github.com/pandas-dev/pandas/issues/54466\n",
      "        \n",
      "  import pandas as pd\n"
     ]
    }
   ],
   "source": [
    "# Import necessary libraries\n",
    "import pandas as pd"
   ]
  },
  {
   "cell_type": "code",
   "execution_count": 2,
   "metadata": {
    "collapsed": false,
    "jupyter": {
     "outputs_hidden": false
    },
    "pycharm": {
     "name": "#%%\n"
    }
   },
   "outputs": [],
   "source": [
    "# Construct the relative path to the dataset\n",
    "dataset_path = '../data/raw/data.csv'"
   ]
  },
  {
   "cell_type": "code",
   "execution_count": 3,
   "metadata": {
    "collapsed": false,
    "jupyter": {
     "outputs_hidden": false
    },
    "pycharm": {
     "name": "#%%\n"
    }
   },
   "outputs": [],
   "source": [
    "# Load the dataset from the data/raw directory\n",
    "dataset = pd.read_csv(dataset_path)"
   ]
  },
  {
   "cell_type": "code",
   "execution_count": 4,
   "metadata": {
    "collapsed": false,
    "jupyter": {
     "outputs_hidden": false
    },
    "pycharm": {
     "name": "#%%\n"
    }
   },
   "outputs": [
    {
     "data": {
      "text/html": [
       "<div>\n",
       "<style scoped>\n",
       "    .dataframe tbody tr th:only-of-type {\n",
       "        vertical-align: middle;\n",
       "    }\n",
       "\n",
       "    .dataframe tbody tr th {\n",
       "        vertical-align: top;\n",
       "    }\n",
       "\n",
       "    .dataframe thead th {\n",
       "        text-align: right;\n",
       "    }\n",
       "</style>\n",
       "<table border=\"1\" class=\"dataframe\">\n",
       "  <thead>\n",
       "    <tr style=\"text-align: right;\">\n",
       "      <th></th>\n",
       "      <th>rating</th>\n",
       "      <th>team</th>\n",
       "      <th>position</th>\n",
       "      <th>salary</th>\n",
       "      <th>country</th>\n",
       "      <th>draft_round</th>\n",
       "      <th>age</th>\n",
       "      <th>experience</th>\n",
       "      <th>bmi</th>\n",
       "    </tr>\n",
       "  </thead>\n",
       "  <tbody>\n",
       "    <tr>\n",
       "      <th>0</th>\n",
       "      <td>97</td>\n",
       "      <td>Los Angeles Lakers</td>\n",
       "      <td>F</td>\n",
       "      <td>37436858.0</td>\n",
       "      <td>USA</td>\n",
       "      <td>1</td>\n",
       "      <td>36</td>\n",
       "      <td>17</td>\n",
       "      <td>26.722594</td>\n",
       "    </tr>\n",
       "    <tr>\n",
       "      <th>1</th>\n",
       "      <td>97</td>\n",
       "      <td>Los Angeles Clippers</td>\n",
       "      <td>F</td>\n",
       "      <td>32742000.0</td>\n",
       "      <td>USA</td>\n",
       "      <td>1</td>\n",
       "      <td>29</td>\n",
       "      <td>9</td>\n",
       "      <td>25.271652</td>\n",
       "    </tr>\n",
       "    <tr>\n",
       "      <th>2</th>\n",
       "      <td>96</td>\n",
       "      <td>Milwaukee Bucks</td>\n",
       "      <td>F-G</td>\n",
       "      <td>25842697.0</td>\n",
       "      <td>Not-USA</td>\n",
       "      <td>1</td>\n",
       "      <td>26</td>\n",
       "      <td>7</td>\n",
       "      <td>24.662519</td>\n",
       "    </tr>\n",
       "    <tr>\n",
       "      <th>3</th>\n",
       "      <td>96</td>\n",
       "      <td>Brooklyn Nets</td>\n",
       "      <td>F</td>\n",
       "      <td>37199000.0</td>\n",
       "      <td>USA</td>\n",
       "      <td>1</td>\n",
       "      <td>32</td>\n",
       "      <td>13</td>\n",
       "      <td>24.107803</td>\n",
       "    </tr>\n",
       "    <tr>\n",
       "      <th>4</th>\n",
       "      <td>96</td>\n",
       "      <td>Houston Rockets</td>\n",
       "      <td>G</td>\n",
       "      <td>38199000.0</td>\n",
       "      <td>USA</td>\n",
       "      <td>1</td>\n",
       "      <td>31</td>\n",
       "      <td>11</td>\n",
       "      <td>25.978759</td>\n",
       "    </tr>\n",
       "  </tbody>\n",
       "</table>\n",
       "</div>"
      ],
      "text/plain": [
       "   rating                  team position      salary  country  draft_round  \\\n",
       "0      97    Los Angeles Lakers        F  37436858.0      USA            1   \n",
       "1      97  Los Angeles Clippers        F  32742000.0      USA            1   \n",
       "2      96       Milwaukee Bucks      F-G  25842697.0  Not-USA            1   \n",
       "3      96         Brooklyn Nets        F  37199000.0      USA            1   \n",
       "4      96       Houston Rockets        G  38199000.0      USA            1   \n",
       "\n",
       "   age  experience        bmi  \n",
       "0   36          17  26.722594  \n",
       "1   29           9  25.271652  \n",
       "2   26           7  24.662519  \n",
       "3   32          13  24.107803  \n",
       "4   31          11  25.978759  "
      ]
     },
     "execution_count": 4,
     "metadata": {},
     "output_type": "execute_result"
    }
   ],
   "source": [
    "# Display the first few rows of the dataset\n",
    "dataset.head()"
   ]
  },
  {
   "cell_type": "code",
   "execution_count": null,
   "metadata": {},
   "outputs": [],
   "source": []
  }
 ],
 "metadata": {
  "kernelspec": {
   "display_name": "Python 3 (ipykernel)",
   "language": "python",
   "name": "python3"
  },
  "language_info": {
   "codemirror_mode": {
    "name": "ipython",
    "version": 3
   },
   "file_extension": ".py",
   "mimetype": "text/x-python",
   "name": "python",
   "nbconvert_exporter": "python",
   "pygments_lexer": "ipython3",
   "version": "3.10.0"
  }
 },
 "nbformat": 4,
 "nbformat_minor": 4
}